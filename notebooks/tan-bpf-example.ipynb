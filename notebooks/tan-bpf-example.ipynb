{
 "cells": [
  {
   "cell_type": "code",
   "execution_count": 1,
   "metadata": {},
   "outputs": [],
   "source": [
    "import numpy as np\n",
    "\n",
    "from robust_smc.data import TANSimulator, ExplosiveTANSimulator\n",
    "from robust_smc.sampler import LinearDiagonalGaussianBPF"
   ]
  },
  {
   "cell_type": "code",
   "execution_count": 2,
   "metadata": {},
   "outputs": [],
   "source": [
    "simulator = TANSimulator(1000)"
   ]
  },
  {
   "cell_type": "code",
   "execution_count": 3,
   "metadata": {},
   "outputs": [],
   "source": [
    "prior_std = np.array([1e3, 1e3, 1e3, 3.0, 1.0, 1.0])\n",
    "transition_matrix = simulator.transition_matrix\n",
    "x_init = np.zeros((100, 6))\n",
    "noise_std = 5.0"
   ]
  },
  {
   "cell_type": "code",
   "execution_count": 4,
   "metadata": {},
   "outputs": [],
   "source": [
    "sampler = LinearDiagonalGaussianBPF(simulator.Y, transition_matrix=transition_matrix, noise_std=noise_std,\n",
    "                                    prior_std=prior_std, x_init=x_init, observation_model=simulator.observation_model)"
   ]
  },
  {
   "cell_type": "code",
   "execution_count": 5,
   "metadata": {},
   "outputs": [],
   "source": [
    "sampler.sample()"
   ]
  },
  {
   "cell_type": "code",
   "execution_count": 8,
   "metadata": {},
   "outputs": [],
   "source": [
    "from scipy.special import logsumexp\n",
    "def normalised_weights(logw):\n",
    "    return np.exp(logw - logsumexp(logw))"
   ]
  },
  {
   "cell_type": "code",
   "execution_count": 11,
   "metadata": {},
   "outputs": [
    {
     "data": {
      "text/plain": [
       "array([[1.09713099e-027],\n",
       "       [9.03718379e-078],\n",
       "       [1.97390585e-015],\n",
       "       [1.09903137e-023],\n",
       "       [4.82596524e-044],\n",
       "       [9.76448798e-310],\n",
       "       [7.68475637e-002],\n",
       "       [6.48306404e-002],\n",
       "       [4.14255064e-006],\n",
       "       [6.92785077e-002],\n",
       "       [1.35258283e-017],\n",
       "       [1.17979188e-024],\n",
       "       [3.45845952e-323],\n",
       "       [3.10030579e-091],\n",
       "       [2.46914364e-245],\n",
       "       [2.01900136e-004],\n",
       "       [4.72576965e-083],\n",
       "       [0.00000000e+000],\n",
       "       [1.23263270e-001],\n",
       "       [1.46913948e-060],\n",
       "       [5.09372158e-076],\n",
       "       [2.05312463e-016],\n",
       "       [1.25464340e-001],\n",
       "       [1.21219687e-049],\n",
       "       [8.24825153e-046],\n",
       "       [2.12625914e-041],\n",
       "       [1.22138875e-040],\n",
       "       [0.00000000e+000],\n",
       "       [0.00000000e+000],\n",
       "       [8.44561384e-002],\n",
       "       [0.00000000e+000],\n",
       "       [3.99412282e-026],\n",
       "       [0.00000000e+000],\n",
       "       [1.33733155e-001],\n",
       "       [4.32842644e-020],\n",
       "       [1.63439479e-062],\n",
       "       [9.12141072e-009],\n",
       "       [1.50239803e-002],\n",
       "       [9.83660207e-110],\n",
       "       [9.89096015e-002],\n",
       "       [1.83267637e-075],\n",
       "       [3.55189992e-088],\n",
       "       [2.63772270e-026],\n",
       "       [1.93823564e-087],\n",
       "       [9.40256585e-042],\n",
       "       [2.97027117e-007],\n",
       "       [1.79934476e-265],\n",
       "       [1.93941163e-312],\n",
       "       [1.36122498e-007],\n",
       "       [2.39185840e-203],\n",
       "       [5.96878461e-097],\n",
       "       [0.00000000e+000],\n",
       "       [6.05761337e-009],\n",
       "       [5.93531270e-040],\n",
       "       [3.10477169e-096],\n",
       "       [1.82115400e-013],\n",
       "       [1.85998564e-024],\n",
       "       [2.81452281e-014],\n",
       "       [6.26095253e-026],\n",
       "       [2.02788881e-003],\n",
       "       [8.10291653e-002],\n",
       "       [1.01102734e-028],\n",
       "       [7.22785649e-168],\n",
       "       [4.13029904e-018],\n",
       "       [1.45029277e-021],\n",
       "       [7.69426661e-031],\n",
       "       [1.66816838e-048],\n",
       "       [1.87117246e-214],\n",
       "       [5.29596542e-009],\n",
       "       [5.06989164e-013],\n",
       "       [6.54019511e-111],\n",
       "       [1.51521580e-007],\n",
       "       [7.41098469e-323],\n",
       "       [4.42713499e-164],\n",
       "       [1.45542223e-042],\n",
       "       [0.00000000e+000],\n",
       "       [3.79127645e-286],\n",
       "       [5.01350883e-061],\n",
       "       [3.03248490e-002],\n",
       "       [8.10990180e-003],\n",
       "       [2.14366507e-004],\n",
       "       [4.99561843e-307],\n",
       "       [1.43389528e-070],\n",
       "       [2.71185385e-149],\n",
       "       [7.02923903e-003],\n",
       "       [1.12086405e-009],\n",
       "       [1.90144393e-006],\n",
       "       [2.84657930e-077],\n",
       "       [1.97490063e-026],\n",
       "       [8.04890755e-014],\n",
       "       [1.04465906e-065],\n",
       "       [5.77503529e-002],\n",
       "       [0.00000000e+000],\n",
       "       [1.14935569e-017],\n",
       "       [1.05177780e-081],\n",
       "       [9.58381327e-008],\n",
       "       [2.14983934e-002],\n",
       "       [4.00537655e-042],\n",
       "       [0.00000000e+000],\n",
       "       [2.84194836e-062]])"
      ]
     },
     "execution_count": 11,
     "metadata": {},
     "output_type": "execute_result"
    }
   ],
   "source": [
    "normalised_weights(sampler.logw[-1])"
   ]
  },
  {
   "cell_type": "code",
   "execution_count": null,
   "metadata": {},
   "outputs": [],
   "source": []
  }
 ],
 "metadata": {
  "kernelspec": {
   "display_name": "Python 3",
   "language": "python",
   "name": "python3"
  },
  "language_info": {
   "codemirror_mode": {
    "name": "ipython",
    "version": 3
   },
   "file_extension": ".py",
   "mimetype": "text/x-python",
   "name": "python",
   "nbconvert_exporter": "python",
   "pygments_lexer": "ipython3",
   "version": "3.7.5"
  }
 },
 "nbformat": 4,
 "nbformat_minor": 2
}
